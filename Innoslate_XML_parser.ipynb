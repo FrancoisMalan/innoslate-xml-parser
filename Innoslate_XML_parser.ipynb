{
 "metadata": {
  "name": "",
  "signature": "sha256:df93d9b05ea9709070e648994535ad746d135f531d9b3e13cc09c98f66ac95a5"
 },
 "nbformat": 3,
 "nbformat_minor": 0,
 "worksheets": [
  {
   "cells": [
    {
     "cell_type": "markdown",
     "metadata": {},
     "source": [
      "schemaClassIDs have the following definitions:\n",
      "\n",
      "    C1Z : Requirement\n",
      "    C1  : Action\n",
      "    C14 : IO\n",
      "    C1Y : Statement\n",
      "    C5  : Artifact\n",
      "    C8  : Asset\n",
      "    CE  : Characteristic\n",
      "    CQ  : Connector"
     ]
    },
    {
     "cell_type": "code",
     "collapsed": false,
     "input": [
      "from xml.dom import minidom\n",
      "import csv"
     ],
     "language": "python",
     "metadata": {},
     "outputs": [],
     "prompt_number": 126
    },
    {
     "cell_type": "code",
     "collapsed": false,
     "input": [
      "source_file_name = 'SDP_SE_PIP.IMG_TASK_LEAD.xml'"
     ],
     "language": "python",
     "metadata": {},
     "outputs": [],
     "prompt_number": 79
    },
    {
     "cell_type": "code",
     "collapsed": false,
     "input": [
      "requirement_ID = 'C1Z'\n",
      "action_ID = 'C1'"
     ],
     "language": "python",
     "metadata": {},
     "outputs": [],
     "prompt_number": 60
    },
    {
     "cell_type": "code",
     "collapsed": false,
     "input": [
      "xmlObj = minidom.parse(source_file_name)"
     ],
     "language": "python",
     "metadata": {},
     "outputs": [],
     "prompt_number": 80
    },
    {
     "cell_type": "code",
     "collapsed": false,
     "input": [
      "class Requirement():\n",
      "    id = \"\"\n",
      "    name = \"\"\n",
      "    description = \"\"\n",
      "    number = \"\"\n",
      "    status = \"\"\n",
      "    priority = \"\"\n",
      "    labels = []\n",
      "\n",
      "    def __init__(self, id):\n",
      "        self.id = id\n",
      "        \n",
      "    def __repr__(self):\n",
      "        return 'Requirement. id=%s, number=%s, name=%s, labels=%s' % (self.id, self.number, self.name, str(len(self.labels))) \n",
      "\n",
      "class Action():\n",
      "    id = \"\"\n",
      "    name = \"\"\n",
      "    description = \"\"\n",
      "    number = \"\"\n",
      "    labels = []\n",
      "\n",
      "    def __init__(self, id):\n",
      "        self.id = id\n",
      "        \n",
      "    def __repr__(self):\n",
      "        return 'Action. id=%s, number=%s, name=%s, labels=%s' % (self.id, self.number, self.name, str(len(self.labels)))  \n",
      "    \n",
      "class Relationship():\n",
      "    source = \"\"\n",
      "    target = \"\"\n",
      "    reltype = \"\"\n",
      "\n",
      "    def __init__(self):\n",
      "        pass\n",
      "        \n",
      "    def __repr__(self):\n",
      "        return 'Relationship: %s -> %s' % (self.source, self.target)  \n"
     ],
     "language": "python",
     "metadata": {},
     "outputs": [],
     "prompt_number": 120
    },
    {
     "cell_type": "code",
     "collapsed": false,
     "input": [
      "types = set()\n",
      "\n",
      "requirements = {}\n",
      "actions = {}\n",
      "entities = {} # Requirements and actions\n",
      "\n",
      "relationships = []\n",
      "relationships_from = {}\n",
      "relationships_to = {}\n",
      "\n",
      "Topic = xmlObj.getElementsByTagName('entity')\n",
      "for node in Topic:\n",
      "    new_entity = None\n",
      "    for child in node.childNodes:\n",
      "        # Any kind of 'entity'. Read the schemaClassId to determine its type\n",
      "        if child.localName == 'schemaClassId':\n",
      "            if child.childNodes[0].nodeValue == requirement_ID:\n",
      "                id = node.attributes['id'].nodeValue\n",
      "                new_entity = Requirement(id)\n",
      "                break\n",
      "            elif child.childNodes[0].nodeValue == action_ID:\n",
      "                new_entity = Action(id)\n",
      "                break\n",
      "\n",
      "    if new_entity is not None:\n",
      "        if isinstance(new_entity, Requirement) or isinstance(new_entity, Action):\n",
      "            new_entity.labels = []\n",
      "            for child in node.childNodes:\n",
      "                if child.localName == 'name':\n",
      "                    new_entity.name = child.childNodes[0].nodeValue\n",
      "                elif child.localName == 'description':\n",
      "                    if child.childNodes is not None and len(child.childNodes) > 0:\n",
      "                        new_entity.description = child.childNodes[0].nodeValue   \n",
      "                elif child.localName == 'number':\n",
      "                    new_entity.number = child.childNodes[0].nodeValue  \n",
      "                elif child.localName == 'labelId':\n",
      "                    new_entity.labels.append(child.childNodes[0].nodeValue)                    \n",
      "                elif child.localName == 'stringAttribute':\n",
      "                    print(child.node.attributes['schemaAttributeId'].nodeValue)           \n",
      "        else:\n",
      "            print(\"Warning - unrecognised entity with schema class '%s' encountered. Skipped it\" % node.attributes['id'].nodeValue)\n",
      "            \n",
      "        entities[new_entity.id] = new_entity\n",
      "        if isinstance(new_entity, Requirement):\n",
      "            requirements[new_entity.id] = new_entity\n",
      "        elif isinstance(new_entity, Action):\n",
      "            actions[new_entity.id] = new_entity\n",
      "\n",
      "Topic = xmlObj.getElementsByTagName('relationship')\n",
      "for node in Topic:\n",
      "    relationship = Relationship()\n",
      "    for child in node.childNodes:\n",
      "        if child.localName == 'sourceId':\n",
      "            relationship.source = child.childNodes[0].nodeValue\n",
      "        elif child.localName == 'targetId':\n",
      "            relationship.target = child.childNodes[0].nodeValue     \n",
      "        elif child.localName == 'schemaRelationId':\n",
      "            relationship.reltype = child.childNodes[0].nodeValue\n",
      "            \n",
      "    if relationship.target not in relationships_to:\n",
      "        relationships_to[relationship.target] = [relationship.source]\n",
      "    else:\n",
      "        relationships_to[relationship.target].append(relationship.source)\n",
      "        \n",
      "    if relationship.source not in relationships_from:\n",
      "        relationships_from[relationship.source] = [relationship.target]\n",
      "    else:\n",
      "        relationships_from[relationship.source].append(relationship.target)\n",
      "        \n",
      "    relationships.append(relationship)\n",
      "    #print(relationship)\n",
      "\n",
      "#print(relationships_from)\n",
      "#print(relationships_to)\n",
      "\n",
      "with open('Requirements.csv', 'w', newline='') as fp:\n",
      "    a = csv.writer(fp, delimiter=',')\n",
      "    data = []\n",
      "    for requirement in requirements.values():\n",
      "        data_row = [requirement.number]\n",
      "        if requirement.id in relationships_to:\n",
      "            for key in relationships_to[requirement.id]:\n",
      "                if key in actions:\n",
      "                    data_row.append(entities[key].number)\n",
      "        if requirement.id in relationships_from:\n",
      "            for key in relationships_from[requirement.id]:\n",
      "                if key in actions:\n",
      "                    data_row.append(entities[key].number)\n",
      "        data.append(data_row)\n",
      "    a.writerows(data)\n",
      "    \n",
      "with open('Actions.csv', 'w', newline='') as fp:\n",
      "    a = csv.writer(fp, delimiter=',')\n",
      "    data = []\n",
      "    for action in actions.values():\n",
      "        data_row = [action.number]\n",
      "        if action.id in relationships_to:\n",
      "            for key in relationships_to[action.id]:\n",
      "                if key in requirements:\n",
      "                    data_row.append(entities[key].number)\n",
      "        if requirement.id in relationships_from:\n",
      "            for key in relationships_from[action.id]:\n",
      "                if key in requirements:\n",
      "                    data_row.append(entities[key].number)\n",
      "        data.append(data_row)\n",
      "    a.writerows(data)"
     ],
     "language": "python",
     "metadata": {},
     "outputs": [
      {
       "ename": "AttributeError",
       "evalue": "'Element' object has no attribute 'node'",
       "output_type": "pyerr",
       "traceback": [
        "\u001b[1;31m---------------------------------------------------------------------------\u001b[0m\n\u001b[1;31mAttributeError\u001b[0m                            Traceback (most recent call last)",
        "\u001b[1;32m<ipython-input-150-d6bcfeacd293>\u001b[0m in \u001b[0;36m<module>\u001b[1;34m()\u001b[0m\n\u001b[0;32m     37\u001b[0m                     \u001b[0mnew_entity\u001b[0m\u001b[1;33m.\u001b[0m\u001b[0mlabels\u001b[0m\u001b[1;33m.\u001b[0m\u001b[0mappend\u001b[0m\u001b[1;33m(\u001b[0m\u001b[0mchild\u001b[0m\u001b[1;33m.\u001b[0m\u001b[0mchildNodes\u001b[0m\u001b[1;33m[\u001b[0m\u001b[1;36m0\u001b[0m\u001b[1;33m]\u001b[0m\u001b[1;33m.\u001b[0m\u001b[0mnodeValue\u001b[0m\u001b[1;33m)\u001b[0m\u001b[1;33m\u001b[0m\u001b[0m\n\u001b[0;32m     38\u001b[0m                 \u001b[1;32melif\u001b[0m \u001b[0mchild\u001b[0m\u001b[1;33m.\u001b[0m\u001b[0mlocalName\u001b[0m \u001b[1;33m==\u001b[0m \u001b[1;34m'stringAttribute'\u001b[0m\u001b[1;33m:\u001b[0m\u001b[1;33m\u001b[0m\u001b[0m\n\u001b[1;32m---> 39\u001b[1;33m                     \u001b[0mprint\u001b[0m\u001b[1;33m(\u001b[0m\u001b[0mchild\u001b[0m\u001b[1;33m.\u001b[0m\u001b[0mnode\u001b[0m\u001b[1;33m.\u001b[0m\u001b[0mattributes\u001b[0m\u001b[1;33m[\u001b[0m\u001b[1;34m'schemaAttributeId'\u001b[0m\u001b[1;33m]\u001b[0m\u001b[1;33m.\u001b[0m\u001b[0mnodeValue\u001b[0m\u001b[1;33m)\u001b[0m\u001b[1;33m\u001b[0m\u001b[0m\n\u001b[0m\u001b[0;32m     40\u001b[0m         \u001b[1;32melse\u001b[0m\u001b[1;33m:\u001b[0m\u001b[1;33m\u001b[0m\u001b[0m\n\u001b[0;32m     41\u001b[0m             \u001b[0mprint\u001b[0m\u001b[1;33m(\u001b[0m\u001b[1;34m\"Warning - unrecognised entity with schema class '%s' encountered. Skipped it\"\u001b[0m \u001b[1;33m%\u001b[0m \u001b[0mnode\u001b[0m\u001b[1;33m.\u001b[0m\u001b[0mattributes\u001b[0m\u001b[1;33m[\u001b[0m\u001b[1;34m'id'\u001b[0m\u001b[1;33m]\u001b[0m\u001b[1;33m.\u001b[0m\u001b[0mnodeValue\u001b[0m\u001b[1;33m)\u001b[0m\u001b[1;33m\u001b[0m\u001b[0m\n",
        "\u001b[1;31mAttributeError\u001b[0m: 'Element' object has no attribute 'node'"
       ]
      }
     ],
     "prompt_number": 150
    },
    {
     "cell_type": "code",
     "collapsed": false,
     "input": [
      "types"
     ],
     "language": "python",
     "metadata": {},
     "outputs": [
      {
       "metadata": {},
       "output_type": "pyout",
       "prompt_number": 51,
       "text": [
        "{'C1', 'C14', 'C1Y', 'C5', 'C8', 'CE', 'CQ'}"
       ]
      }
     ],
     "prompt_number": 51
    },
    {
     "cell_type": "code",
     "collapsed": false,
     "input": [
      "['z', 'a'] + ['b', 'c']"
     ],
     "language": "python",
     "metadata": {},
     "outputs": [
      {
       "metadata": {},
       "output_type": "pyout",
       "prompt_number": 129,
       "text": [
        "['z', 'a', 'b', 'c']"
       ]
      }
     ],
     "prompt_number": 129
    },
    {
     "cell_type": "code",
     "collapsed": false,
     "input": [
      "t = {'a' : 'b'}\n",
      "t.keys()"
     ],
     "language": "python",
     "metadata": {},
     "outputs": [
      {
       "metadata": {},
       "output_type": "pyout",
       "prompt_number": 134,
       "text": [
        "dict_keys(['a'])"
       ]
      }
     ],
     "prompt_number": 134
    },
    {
     "cell_type": "code",
     "collapsed": false,
     "input": [
      "a.toprettyxml()"
     ],
     "language": "python",
     "metadata": {},
     "outputs": [
      {
       "metadata": {},
       "output_type": "pyout",
       "prompt_number": 68,
       "text": [
        "'<entity id=\"e8XYCH\">\\n\\t\\n            \\n\\t<name>OrderUVData</name>\\n\\t\\n            \\n\\t<description>The HandleMissingData step will be able to order (u,v) data over time</description>\\n\\t\\n            \\n\\t<hidden>false</hidden>\\n\\t\\n            \\n\\t<locked>false</locked>\\n\\t\\n            \\n\\t<schemaClassId>C1Z</schemaClassId>\\n\\t\\n            \\n\\t<number>SDP_REQ-482</number>\\n\\t\\n            \\n\\t<labelId>L2fkd</labelId>\\n\\t\\n            \\n\\t<labelId>L320g</labelId>\\n\\t\\n            \\n\\t<labelId>L1P2C4NBSW1F05</labelId>\\n\\t\\n            \\n\\t<simulationData>\\n\\t\\t\\n                \\n\\t\\t<type>SERIAL</type>\\n\\t\\t\\n                \\n\\t\\t<controlStructure id=\"a27fbda2-de78-4d8e-b775-c9723535a735\">\\n\\t\\t\\t\\n                    \\n\\t\\t\\t<type>START</type>\\n\\t\\t\\t\\n                    \\n\\t\\t\\t<sucessorStructure id=\"ad4fa0d1-2277-44d0-ac81-a082a3e0f7dc\">\\n\\t\\t\\t\\t\\n                        \\n\\t\\t\\t\\t<type>END</type>\\n\\t\\t\\t\\t\\n                    \\n\\t\\t\\t</sucessorStructure>\\n\\t\\t\\t\\n                \\n\\t\\t</controlStructure>\\n\\t\\t\\n            \\n\\t</simulationData>\\n\\t\\n        \\n</entity>\\n'"
       ]
      }
     ],
     "prompt_number": 68
    },
    {
     "cell_type": "code",
     "collapsed": false,
     "input": [
      "for child in a.childNodes:\n",
      "    print(child.localName)"
     ],
     "language": "python",
     "metadata": {},
     "outputs": [
      {
       "output_type": "stream",
       "stream": "stdout",
       "text": [
        "None\n",
        "name\n",
        "None\n",
        "description\n",
        "None\n",
        "hidden\n",
        "None\n",
        "locked\n",
        "None\n",
        "schemaClassId\n",
        "None\n",
        "number\n",
        "None\n",
        "labelId\n",
        "None\n",
        "labelId\n",
        "None\n",
        "labelId\n",
        "None\n",
        "simulationData\n",
        "None\n"
       ]
      }
     ],
     "prompt_number": 69
    },
    {
     "cell_type": "code",
     "collapsed": false,
     "input": [
      "for child in a.childNodes:\n",
      "    if child.localName == 'schemaClassId':\n",
      "        t = child\n",
      "        break"
     ],
     "language": "python",
     "metadata": {},
     "outputs": [],
     "prompt_number": 25
    },
    {
     "cell_type": "code",
     "collapsed": false,
     "input": [
      "t.childNodes[0]"
     ],
     "language": "python",
     "metadata": {},
     "outputs": [
      {
       "metadata": {},
       "output_type": "pyout",
       "prompt_number": 27,
       "text": [
        "<DOM Text node \"'C1Z'\">"
       ]
      }
     ],
     "prompt_number": 27
    },
    {
     "cell_type": "code",
     "collapsed": false,
     "input": [
      "node"
     ],
     "language": "python",
     "metadata": {},
     "outputs": [
      {
       "ename": "NameError",
       "evalue": "name 'node' is not defined",
       "output_type": "pyerr",
       "traceback": [
        "\u001b[1;31m---------------------------------------------------------------------------\u001b[0m\n\u001b[1;31mNameError\u001b[0m                                 Traceback (most recent call last)",
        "\u001b[1;32m<ipython-input-29-449b092c7cda>\u001b[0m in \u001b[0;36m<module>\u001b[1;34m()\u001b[0m\n\u001b[1;32m----> 1\u001b[1;33m \u001b[0mnode\u001b[0m\u001b[1;33m\u001b[0m\u001b[0m\n\u001b[0m",
        "\u001b[1;31mNameError\u001b[0m: name 'node' is not defined"
       ]
      }
     ],
     "prompt_number": 29
    },
    {
     "cell_type": "code",
     "collapsed": false,
     "input": [
      "node = Topic.pop()"
     ],
     "language": "python",
     "metadata": {},
     "outputs": [],
     "prompt_number": 30
    },
    {
     "cell_type": "code",
     "collapsed": false,
     "input": [
      "node"
     ],
     "language": "python",
     "metadata": {},
     "outputs": [
      {
       "metadata": {},
       "output_type": "pyout",
       "prompt_number": 31,
       "text": [
        "<DOM Element: entity at 0x696c2a8>"
       ]
      }
     ],
     "prompt_number": 31
    },
    {
     "cell_type": "code",
     "collapsed": false,
     "input": [
      "node.childNodes[0]"
     ],
     "language": "python",
     "metadata": {},
     "outputs": [
      {
       "metadata": {},
       "output_type": "pyout",
       "prompt_number": 32,
       "text": [
        "<DOM Text node \"'\\n         '...\">"
       ]
      }
     ],
     "prompt_number": 32
    },
    {
     "cell_type": "code",
     "collapsed": false,
     "input": [],
     "language": "python",
     "metadata": {},
     "outputs": []
    }
   ],
   "metadata": {}
  }
 ]
}